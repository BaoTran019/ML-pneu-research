{
 "cells": [
  {
   "cell_type": "code",
   "execution_count": 1,
   "metadata": {},
   "outputs": [],
   "source": [
    "import sys\n",
    "import os\n",
    "\n",
    "# Lấy đường dẫn thư mục gốc của dự án (ML_pneu_inf_research)\n",
    "parent_dir = os.path.abspath(os.path.join(os.getcwd(), os.pardir))\n",
    "\n",
    "# Thêm thư mục gốc vào sys.path\n",
    "sys.path.append(parent_dir)\n",
    "\n",
    "from utils.DataLoader import Read_Excel_Data"
   ]
  },
  {
   "cell_type": "code",
   "execution_count": 3,
   "metadata": {},
   "outputs": [
    {
     "name": "stdout",
     "output_type": "stream",
     "text": [
      ".p\n",
      "<class 'pandas.core.frame.DataFrame'>\n",
      "RangeIndex: 8000 entries, 0 to 7999\n",
      "Data columns (total 24 columns):\n",
      " #   Column                   Non-Null Count  Dtype \n",
      "---  ------                   --------------  ----- \n",
      " 0   policy                   8000 non-null   object\n",
      " 1   self_empl                8000 non-null   object\n",
      " 2   asthma                   8000 non-null   object\n",
      " 3   smoking                  8000 non-null   object\n",
      " 4   COPD                     8000 non-null   object\n",
      " 5   winter                   8000 non-null   object\n",
      " 6   hay_fever                8000 non-null   object\n",
      " 7   pneu                     8000 non-null   object\n",
      " 8   inf                      8000 non-null   object\n",
      " 9   dysp                     8000 non-null   object\n",
      " 10  cough                    8000 non-null   object\n",
      " 11  pain                     8000 non-null   object\n",
      " 12  fever                    8000 non-null   object\n",
      " 13  nasal                    8000 non-null   object\n",
      " 14  antibiotics              8000 non-null   object\n",
      " 15  days_at_home             8000 non-null   int64 \n",
      " 16  text_hist                8000 non-null   object\n",
      " 17  text_phys_exam           8000 non-null   object\n",
      " 18  advanced_text_hist       8000 non-null   object\n",
      " 19  advanced_text_phys_exam  8000 non-null   object\n",
      " 20  hist_emb                 8000 non-null   object\n",
      " 21  phys_emb                 8000 non-null   object\n",
      " 22  adv_hist_emb             8000 non-null   object\n",
      " 23  adv_phys_emb             8000 non-null   object\n",
      "dtypes: int64(1), object(23)\n",
      "memory usage: 1.5+ MB\n",
      "label_combined\n",
      "no-no      6057\n",
      "no-yes     1856\n",
      "yes-no       56\n",
      "yes-yes      31\n",
      "Name: count, dtype: int64\n",
      "pneu  inf\n",
      "no    no     4845\n",
      "      yes    1485\n",
      "yes   no       45\n",
      "      yes      25\n",
      "Name: count, dtype: int64\n",
      "pneu  inf\n",
      "no    no     1212\n",
      "      yes     371\n",
      "yes   no       11\n",
      "      yes       6\n",
      "Name: count, dtype: int64\n"
     ]
    }
   ],
   "source": [
    "df = Read_Excel_Data(\"concatenated_dataFileP.p\")"
   ]
  },
  {
   "cell_type": "code",
   "execution_count": 7,
   "metadata": {},
   "outputs": [
    {
     "name": "stdout",
     "output_type": "stream",
     "text": [
      "<class 'pandas.core.frame.DataFrame'>\n",
      "RangeIndex: 8000 entries, 0 to 7999\n",
      "Data columns (total 26 columns):\n",
      " #   Column                   Non-Null Count  Dtype \n",
      "---  ------                   --------------  ----- \n",
      " 0   policy                   8000 non-null   object\n",
      " 1   self_empl                8000 non-null   object\n",
      " 2   asthma                   8000 non-null   object\n",
      " 3   smoking                  8000 non-null   object\n",
      " 4   COPD                     8000 non-null   object\n",
      " 5   winter                   8000 non-null   object\n",
      " 6   hay_fever                8000 non-null   object\n",
      " 7   pneu                     8000 non-null   object\n",
      " 8   inf                      8000 non-null   object\n",
      " 9   dysp                     8000 non-null   object\n",
      " 10  cough                    8000 non-null   object\n",
      " 11  pain                     8000 non-null   object\n",
      " 12  fever                    8000 non-null   object\n",
      " 13  nasal                    8000 non-null   object\n",
      " 14  antibiotics              8000 non-null   object\n",
      " 15  days_at_home             8000 non-null   int64 \n",
      " 16  text                     8000 non-null   object\n",
      " 17  advanced_text            8000 non-null   object\n",
      " 18  text_hist                8000 non-null   object\n",
      " 19  text_phys_exam           8000 non-null   object\n",
      " 20  advanced_text_hist       8000 non-null   object\n",
      " 21  advanced_text_phys_exam  8000 non-null   object\n",
      " 22  hist_emb                 8000 non-null   object\n",
      " 23  phys_emb                 8000 non-null   object\n",
      " 24  adv_hist_emb             8000 non-null   object\n",
      " 25  adv_phys_emb             8000 non-null   object\n",
      "dtypes: int64(1), object(25)\n",
      "memory usage: 1.6+ MB\n"
     ]
    }
   ],
   "source": [
    "import pandas as pd\n",
    "df1 = pd.read_pickle(r\"C:\\Users\\PC PV\\Desktop\\NCKH\\ML_pneu_inf_research\\data\\concatenated_dataFileP.p\")\n",
    "\n",
    "df1.info()"
   ]
  }
 ],
 "metadata": {
  "kernelspec": {
   "display_name": "Python 3",
   "language": "python",
   "name": "python3"
  },
  "language_info": {
   "codemirror_mode": {
    "name": "ipython",
    "version": 3
   },
   "file_extension": ".py",
   "mimetype": "text/x-python",
   "name": "python",
   "nbconvert_exporter": "python",
   "pygments_lexer": "ipython3",
   "version": "3.13.1"
  }
 },
 "nbformat": 4,
 "nbformat_minor": 2
}
