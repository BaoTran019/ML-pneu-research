{
 "cells": [
  {
   "cell_type": "code",
   "execution_count": 1,
   "metadata": {},
   "outputs": [],
   "source": [
    "import sys\n",
    "import os\n",
    "\n",
    "# Lấy đường dẫn thư mục gốc của dự án (ML_pneu_inf_research)\n",
    "parent_dir = os.path.abspath(os.path.join(os.getcwd(), os.pardir))\n",
    "\n",
    "# Thêm thư mục gốc vào sys.path\n",
    "sys.path.append(parent_dir)\n",
    "\n",
    "from utils.DataLoader import Read_Excel_Data"
   ]
  },
  {
   "cell_type": "code",
   "execution_count": 2,
   "metadata": {},
   "outputs": [
    {
     "name": "stdout",
     "output_type": "stream",
     "text": [
      "<class 'pandas.core.frame.DataFrame'>\n",
      "RangeIndex: 10000 entries, 0 to 9999\n",
      "Data columns (total 16 columns):\n",
      " #   Column        Non-Null Count  Dtype \n",
      "---  ------        --------------  ----- \n",
      " 0   policy        10000 non-null  object\n",
      " 1   self_empl     10000 non-null  object\n",
      " 2   asthma        10000 non-null  object\n",
      " 3   smoking       10000 non-null  object\n",
      " 4   COPD          10000 non-null  object\n",
      " 5   season        10000 non-null  object\n",
      " 6   hay_fever     10000 non-null  object\n",
      " 7   pneu          10000 non-null  object\n",
      " 8   cold          10000 non-null  object\n",
      " 9   dysp          10000 non-null  object\n",
      " 10  cough         10000 non-null  object\n",
      " 11  pain          10000 non-null  object\n",
      " 12  fever         10000 non-null  object\n",
      " 13  nasal         10000 non-null  object\n",
      " 14  antibiotics   10000 non-null  object\n",
      " 15  days_at_home  10000 non-null  int64 \n",
      "dtypes: int64(1), object(15)\n",
      "memory usage: 1.2+ MB\n",
      "label_combined\n",
      "no-no      7597\n",
      "no-yes     2300\n",
      "yes-no       68\n",
      "yes-yes      35\n",
      "Name: count, dtype: int64\n",
      "pneu  cold\n",
      "no    no      6078\n",
      "      yes     1840\n",
      "yes   no        54\n",
      "      yes       28\n",
      "Name: count, dtype: int64\n",
      "pneu  cold\n",
      "no    no      1519\n",
      "      yes      460\n",
      "yes   no        14\n",
      "      yes        7\n",
      "Name: count, dtype: int64\n"
     ]
    }
   ],
   "source": [
    "df = Read_Excel_Data(\"File_10000_final.xlsx\")"
   ]
  }
 ],
 "metadata": {
  "kernelspec": {
   "display_name": "Python 3",
   "language": "python",
   "name": "python3"
  },
  "language_info": {
   "codemirror_mode": {
    "name": "ipython",
    "version": 3
   },
   "file_extension": ".py",
   "mimetype": "text/x-python",
   "name": "python",
   "nbconvert_exporter": "python",
   "pygments_lexer": "ipython3",
   "version": "3.13.1"
  }
 },
 "nbformat": 4,
 "nbformat_minor": 2
}
